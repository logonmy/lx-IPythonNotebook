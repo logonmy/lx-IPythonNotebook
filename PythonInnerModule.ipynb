{
 "cells": [
  {
   "cell_type": "markdown",
   "metadata": {},
   "source": [
    "# 文章目录\n",
    "[collections](#1)\n",
    "\n",
    "[base64](#2)\n",
    "\n",
    "[struct](#3)\n",
    "\n",
    "[itertools](#4)\n",
    "\n",
    "[xml](#5)\n",
    "\n",
    "[HTMLParser](#6)\n",
    "\n",
    "[图形编程](#7)"
   ]
  },
  {
   "cell_type": "markdown",
   "metadata": {},
   "source": [
    "# collections\n",
    "<a id='1'></a>\n",
    "\n",
    "collections是Python内建的一个集合模块，提供了许多有用的集合类。"
   ]
  },
  {
   "cell_type": "markdown",
   "metadata": {},
   "source": [
    "### namedtuple \n",
    "\n",
    "namedtuple是一个函数，它用来创建一个自定义的tuple对象，并且规定了tuple元素的个数，并可以用属性而不是索引来引用tuple的某个元素。\n",
    "\n",
    "这样一来，我们用namedtuple可以很方便地定义一种数据类型，它具备tuple的不变性，又可以根据属性来引用，使用十分方便"
   ]
  },
  {
   "cell_type": "code",
   "execution_count": 2,
   "metadata": {
    "collapsed": false
   },
   "outputs": [],
   "source": [
    "#用namedtuple定义一个坐标点\n",
    "from collections import namedtuple\n",
    "Point = namedtuple('Point',['x','y'])\n",
    "p = Point(1,2)"
   ]
  },
  {
   "cell_type": "code",
   "execution_count": 3,
   "metadata": {
    "collapsed": false
   },
   "outputs": [
    {
     "data": {
      "text/plain": [
       "1"
      ]
     },
     "execution_count": 3,
     "metadata": {},
     "output_type": "execute_result"
    }
   ],
   "source": [
    "p.x"
   ]
  },
  {
   "cell_type": "code",
   "execution_count": 4,
   "metadata": {
    "collapsed": false
   },
   "outputs": [
    {
     "data": {
      "text/plain": [
       "2"
      ]
     },
     "execution_count": 4,
     "metadata": {},
     "output_type": "execute_result"
    }
   ],
   "source": [
    "p.y"
   ]
  },
  {
   "cell_type": "code",
   "execution_count": 5,
   "metadata": {
    "collapsed": true
   },
   "outputs": [],
   "source": [
    "#类似的，要用坐标和半径表示一个园\n",
    "Circle = namedtuple('Circle',['x','y','r'])"
   ]
  },
  {
   "cell_type": "markdown",
   "metadata": {},
   "source": [
    "### deque\n",
    "\n",
    "使用list存储数据时，按索引访问元素很快，但是插入和删除元素就很慢，因为list是线性存储，数据量大的时候，插入和删除效率很低。\n",
    "\n",
    "deque是为了高效实现插入和删除操作的双向列表，适合用于队列和栈"
   ]
  },
  {
   "cell_type": "code",
   "execution_count": 6,
   "metadata": {
    "collapsed": false
   },
   "outputs": [
    {
     "data": {
      "text/plain": [
       "deque(['y', 'a', 'b', 'c', 'x'])"
      ]
     },
     "execution_count": 6,
     "metadata": {},
     "output_type": "execute_result"
    }
   ],
   "source": [
    "from collections import deque\n",
    "q = deque(['a','b','c'])\n",
    "q.append('x')\n",
    "q.appendleft('y')\n",
    "q"
   ]
  },
  {
   "cell_type": "markdown",
   "metadata": {},
   "source": [
    "###  defaultdict\n",
    "\n",
    "使用dict的时候，如果引用的Key不村子啊，就会抛出keyError。如果希望key不存在时，返回一个默认值，就可以用defaultdict"
   ]
  },
  {
   "cell_type": "code",
   "execution_count": 7,
   "metadata": {
    "collapsed": false
   },
   "outputs": [
    {
     "data": {
      "text/plain": [
       "'abc'"
      ]
     },
     "execution_count": 7,
     "metadata": {},
     "output_type": "execute_result"
    }
   ],
   "source": [
    "from collections import defaultdict\n",
    "dd = defaultdict(lambda: 'N/A')\n",
    "dd['key1'] = 'abc'\n",
    "dd['key1'] #key1存在"
   ]
  },
  {
   "cell_type": "code",
   "execution_count": 8,
   "metadata": {
    "collapsed": false
   },
   "outputs": [
    {
     "data": {
      "text/plain": [
       "'N/A'"
      ]
     },
     "execution_count": 8,
     "metadata": {},
     "output_type": "execute_result"
    }
   ],
   "source": [
    "dd['key2'] #key2不存在"
   ]
  },
  {
   "cell_type": "markdown",
   "metadata": {},
   "source": [
    "### OrderedDict\n",
    "\n",
    "使用dict时，key是无序的，在对dict进行迭代时，我们无法确定key的书讯，如果需要保持key的顺序，可以使用OrdereDict"
   ]
  },
  {
   "cell_type": "code",
   "execution_count": 12,
   "metadata": {
    "collapsed": false
   },
   "outputs": [
    {
     "data": {
      "text/plain": [
       "{'b': 2, 'c': 3, 'f': 1}"
      ]
     },
     "execution_count": 12,
     "metadata": {},
     "output_type": "execute_result"
    }
   ],
   "source": [
    "from collections import OrderedDict\n",
    "d = dict([('f',1), ('c',3), ('b',2)])\n",
    "d #dict的key是无序的"
   ]
  },
  {
   "cell_type": "code",
   "execution_count": 14,
   "metadata": {
    "collapsed": false
   },
   "outputs": [
    {
     "data": {
      "text/plain": [
       "OrderedDict([('a', 1), ('f', 2), ('c', 3)])"
      ]
     },
     "execution_count": 14,
     "metadata": {},
     "output_type": "execute_result"
    }
   ],
   "source": [
    "od = OrderedDict([('a', 1), ('f', 2), ('c', 3)])\n",
    "od"
   ]
  },
  {
   "cell_type": "markdown",
   "metadata": {},
   "source": [
    "OrderedDict 的key是按照插入的顺序排列，不是Key本身排序"
   ]
  },
  {
   "cell_type": "markdown",
   "metadata": {},
   "source": [
    "OrderedDict可以实现一个FIFO的dict，当容量超出限制时，先删除最早添加的Key"
   ]
  },
  {
   "cell_type": "code",
   "execution_count": 15,
   "metadata": {
    "collapsed": true
   },
   "outputs": [],
   "source": [
    "from collections import OrderedDict\n",
    "class LastUpdatedOrderedDict(OrderedDict):\n",
    "    def __init__(self,capacity):\n",
    "        super(LastUpdatedOrderedDict,self).__init__()\n",
    "        self._capacity = capacity\n",
    "        \n",
    "    def __setitem__(self,key,value):\n",
    "        containsKey = 1 if key in self else 0\n",
    "        if len(self) - containsKey >= self._capacity:\n",
    "            last = self.popitem(last=False)\n",
    "            print 'remove:',last\n",
    "        if containsKey:\n",
    "            del self[key]\n",
    "            print 'set:',(key,value)\n",
    "        else:\n",
    "            print 'add:',(key,value)\n",
    "            \n",
    "        OrderedDict.__setitem__(self,key,value)"
   ]
  },
  {
   "cell_type": "markdown",
   "metadata": {
    "collapsed": true
   },
   "source": [
    "### Counter \n",
    "\n",
    "是一个简单的计数器，例如，统计字符出现的个数："
   ]
  },
  {
   "cell_type": "code",
   "execution_count": 1,
   "metadata": {
    "collapsed": false
   },
   "outputs": [
    {
     "data": {
      "text/plain": [
       "Counter({'a': 1, 'g': 2, 'i': 1, 'm': 2, 'n': 1, 'o': 1, 'p': 1, 'r': 2})"
      ]
     },
     "execution_count": 1,
     "metadata": {},
     "output_type": "execute_result"
    }
   ],
   "source": [
    "from collections import Counter\n",
    "c = Counter()\n",
    "for ch in 'programming':\n",
    "    c[ch] = c[ch]+1\n",
    "c"
   ]
  },
  {
   "cell_type": "markdown",
   "metadata": {},
   "source": [
    "# base64\n",
    "<a id='2'></a>\n",
    "Base64是一种用64个字符来表示任意二进制数据的方法。\n",
    "\n",
    "用记事本打开exe、jpg、pdf这些文件时，我们都会看到一大堆乱码，因为二进制文件包含很多无法显示和打印的字符，所以，如果要让记事本这样的文本处理软件能处理二进制数据，就需要一个二进制到字符串的转换方法。Base64是一种最常见的二进制编码方法\n"
   ]
  },
  {
   "cell_type": "code",
   "execution_count": 2,
   "metadata": {
    "collapsed": false
   },
   "outputs": [
    {
     "data": {
      "text/plain": [
       "'YmluYXJ5AHN0cmluZw=='"
      ]
     },
     "execution_count": 2,
     "metadata": {},
     "output_type": "execute_result"
    }
   ],
   "source": [
    "#python内置的base64可以直接进行base63的编解码\n",
    "import base64\n",
    "base64.b64encode('binary\\x00string')"
   ]
  },
  {
   "cell_type": "code",
   "execution_count": 3,
   "metadata": {
    "collapsed": false
   },
   "outputs": [
    {
     "data": {
      "text/plain": [
       "'binary\\x00string'"
      ]
     },
     "execution_count": 3,
     "metadata": {},
     "output_type": "execute_result"
    }
   ],
   "source": [
    "base64.b64decode('YmluYXJ5AHN0cmluZw==')"
   ]
  },
  {
   "cell_type": "markdown",
   "metadata": {},
   "source": [
    "由于标准的Base64编码后可能出现字符+和/，在URL中就不能直接作为参数，所以又有一种\"url safe\"的base64编码，其实就是把字符+和/分别变成-和_："
   ]
  },
  {
   "cell_type": "code",
   "execution_count": 4,
   "metadata": {
    "collapsed": false
   },
   "outputs": [
    {
     "data": {
      "text/plain": [
       "'abcd++//'"
      ]
     },
     "execution_count": 4,
     "metadata": {},
     "output_type": "execute_result"
    }
   ],
   "source": [
    "base64.b64encode('i\\xb7\\x1d\\xfb\\xef\\xff')"
   ]
  },
  {
   "cell_type": "code",
   "execution_count": 5,
   "metadata": {
    "collapsed": false
   },
   "outputs": [
    {
     "data": {
      "text/plain": [
       "'abcd--__'"
      ]
     },
     "execution_count": 5,
     "metadata": {},
     "output_type": "execute_result"
    }
   ],
   "source": [
    "base64.urlsafe_b64encode('i\\xb7\\x1d\\xfb\\xef\\xff')"
   ]
  },
  {
   "cell_type": "code",
   "execution_count": 6,
   "metadata": {
    "collapsed": false
   },
   "outputs": [
    {
     "data": {
      "text/plain": [
       "'i\\xb7\\x1d\\xfb\\xef\\xff'"
      ]
     },
     "execution_count": 6,
     "metadata": {},
     "output_type": "execute_result"
    }
   ],
   "source": [
    "base64.urlsafe_b64decode(\n",
    "'abcd--__')"
   ]
  },
  {
   "cell_type": "markdown",
   "metadata": {},
   "source": [
    "由于=字符也可能出现在Base64编码中，但=用在URL、Cookie里面会造成歧义，所以，很多Base64编码后会把=去掉"
   ]
  },
  {
   "cell_type": "markdown",
   "metadata": {},
   "source": [
    "# struct \n",
    "<a id='3'></a>\n",
    "\n",
    "Python没有专门处理字节的数据类型,但由于str既是字符串，又可以表示字节，所以，字节数组＝str。而在C语言中，我们可以很方便地用struct、union来处理字节，以及字节和int，float的转换。\n",
    "\n",
    "在Python中，比方说要把一个32位无符号整数变成字节，也就是4个长度的str,你得配合运算符这么写："
   ]
  },
  {
   "cell_type": "code",
   "execution_count": 1,
   "metadata": {
    "collapsed": false
   },
   "outputs": [
    {
     "data": {
      "text/plain": [
       "'\\x00\\x9c@c'"
      ]
     },
     "execution_count": 1,
     "metadata": {},
     "output_type": "execute_result"
    }
   ],
   "source": [
    "n = 10240099\n",
    "b1 = chr((n & 0xff000000) >> 24)\n",
    "b2 = chr((n & 0xff0000) >> 16)\n",
    "b3 = chr((n & 0xff00) >> 8)\n",
    "b4 = chr(n & 0xff)\n",
    "s = b1 + b2 + b3 + b4\n",
    "s"
   ]
  },
  {
   "cell_type": "markdown",
   "metadata": {},
   "source": [
    "Python提供了一个struct模块来解决str和其他二进制数据类型的转换"
   ]
  },
  {
   "cell_type": "code",
   "execution_count": 2,
   "metadata": {
    "collapsed": false
   },
   "outputs": [
    {
     "data": {
      "text/plain": [
       "'\\x00\\x9c@c'"
      ]
     },
     "execution_count": 2,
     "metadata": {},
     "output_type": "execute_result"
    }
   ],
   "source": [
    "import struct\n",
    "struct.pack('>I',10240099)"
   ]
  },
  {
   "cell_type": "markdown",
   "metadata": {},
   "source": [
    "'>I'的意思是：>表示字节顺序是big-endian，也就是网络序，I表示4字节无符号整数"
   ]
  },
  {
   "cell_type": "code",
   "execution_count": 3,
   "metadata": {
    "collapsed": false
   },
   "outputs": [
    {
     "data": {
      "text/plain": [
       "(4042322160L, 32896)"
      ]
     },
     "execution_count": 3,
     "metadata": {},
     "output_type": "execute_result"
    }
   ],
   "source": [
    "#unpack把str变成相应的数据类型\n",
    "struct.unpack('>IH','\\xf0\\xf0\\xf0\\xf0\\x80\\x80')"
   ]
  },
  {
   "cell_type": "markdown",
   "metadata": {},
   "source": [
    "根据>IH的说明，后面的str依次变为I：4字节无符号整数和H：2字节无符号整数。\n",
    "所以，尽管Python不适合编写底层操作字节流的代码，但在对性能要求不高的地方，利用struct就方便多了。\n",
    "\n",
    "struct模块定义的数据类型可以参考Python官方文档：\n",
    "\n",
    "https://docs.python.org/2/library/struct.html#format-characters"
   ]
  },
  {
   "cell_type": "markdown",
   "metadata": {},
   "source": [
    "# hashlib \n",
    "Python的hashlib提供了常见的摘要算法，如MD5，SHA1等等。\n",
    "\n",
    "什么是摘要算法呢？摘要算法又称哈希算法、散列算法。它通过一个函数，把任意长度的数据转换为一个长度固定的数据串（通常用16进制的字符串表示）。\n",
    "\n",
    "举个例子，你写了一篇文章，内容是一个字符串'how to use python hashlib - by\n",
    "Michael'，并附上这篇文章的摘要是'2d73d4f15c0db7f5ecb321b6a65e5d6d'。如果有人篡改了你的文章，并发表为'how to use python hashlib - by Bob'，你可以一下子指出Bob篡改了你的文章，因为根据'how to use python hashlib - by Bob'计算出的摘要不同于原始文章的摘要。\n",
    "\n",
    "可见，摘要算法就是通过摘要函数f()对任意长度的数据data计算出固定长度的摘要digest，目的是为了发现原始数据是否被人篡改过。\n",
    "\n",
    "摘要算法之所以能指出数据是否被篡改过，就是因为摘要函数是一个单向函数，计算f(data)很容易，但通过digest反推data却非常困难。而且，对原始数据做一个bit的修改，都会导致计算出的摘要完全不同。"
   ]
  },
  {
   "cell_type": "code",
   "execution_count": 4,
   "metadata": {
    "collapsed": false
   },
   "outputs": [
    {
     "name": "stdout",
     "output_type": "stream",
     "text": [
      "d26a53750bc40b38b65a520292f69306\n"
     ]
    }
   ],
   "source": [
    "#以常见的摘要算法MD5为例，计算出一个字符串里的MD5值\n",
    "import hashlib\n",
    "\n",
    "md5 = hashlib.md5()\n",
    "md5.update('how to use md5 in python hashlib?')\n",
    "print md5.hexdigest()"
   ]
  },
  {
   "cell_type": "code",
   "execution_count": 5,
   "metadata": {
    "collapsed": false
   },
   "outputs": [
    {
     "name": "stdout",
     "output_type": "stream",
     "text": [
      "d26a53750bc40b38b65a520292f69306\n"
     ]
    }
   ],
   "source": [
    "#如果数据量很大，可以分块多次调用update\n",
    "md5 = hashlib.md5()\n",
    "md5.update('how to use md5 in ')\n",
    "md5.update('python hashlib?')\n",
    "print md5.hexdigest()"
   ]
  },
  {
   "cell_type": "markdown",
   "metadata": {},
   "source": [
    "另一个常见的摘要算法是SHA1，SHA1的结果是160bit字节，通常用一个40位的16禁止字符串表示。\n",
    "\n",
    "比SHA1更安全的是SHA256和SHA512，不过越安全的算法越慢，而且摘要长度更长。"
   ]
  },
  {
   "cell_type": "code",
   "execution_count": 6,
   "metadata": {
    "collapsed": false
   },
   "outputs": [
    {
     "name": "stdout",
     "output_type": "stream",
     "text": [
      "2c76b57293ce30acef38d98f6046927161b46a44\n"
     ]
    }
   ],
   "source": [
    "#SHA1\n",
    "import hashlib\n",
    "\n",
    "sha1 = hashlib.sha1()\n",
    "sha1.update('how to use sha1 in python hashlib?')\n",
    "print sha1.hexdigest()"
   ]
  },
  {
   "cell_type": "markdown",
   "metadata": {},
   "source": [
    "### 摘要算法应用\n",
    "\n",
    "举个例子：任何允许用户登录的网站都回存储用户登录的用户名和口令。用户名和口令是存在数据库表中。\n",
    "\n",
    "如果以明文的形式保存用户口令，如果数据库泄露，所有用户的口令就落入黑客的手里，此外，网站运维人员是可以访问数据库的，也就是能获取到所有用户的口令。\n",
    "\n",
    "正确的姿势是不存储用户的明文口令，而是存储用户口令的摘要\n",
    "\n",
    "当用户登录时，首先计算用户输入的明文口令的MD5，然后和数据库存储的MD5对比，如果一致，说明输入口令正确，如果不一致，口令肯定错误"
   ]
  },
  {
   "cell_type": "code",
   "execution_count": 7,
   "metadata": {
    "collapsed": true
   },
   "outputs": [],
   "source": [
    "#练习：根据用户输入的口令，计算出存储在数据库中的MD5口令\n",
    "def calc_md5(password):\n",
    "    md5 = hashlib.md5()\n",
    "    md5.update(password)\n",
    "    \n",
    "    return md5.hexdigest()"
   ]
  },
  {
   "cell_type": "code",
   "execution_count": 8,
   "metadata": {
    "collapsed": true
   },
   "outputs": [],
   "source": [
    "#练习：设计一个验证用户登录的函数，根据用户输入的口令是否正确，返回true或者false\n",
    "db = {\n",
    "    'michael': 'e10adc3949ba59abbe56e057f20f883e',\n",
    "    'bob': '878ef96e86145580c38c87f0410ad153',\n",
    "    'alice': '99b1c2188db85afee403b1536010c2c9'\n",
    "}  "
   ]
  },
  {
   "cell_type": "code",
   "execution_count": 12,
   "metadata": {
    "collapsed": true
   },
   "outputs": [],
   "source": [
    "def login(user,password):\n",
    "    if db.has_key(user):\n",
    "        print \"包含了key\"\n",
    "        return db.get(user) == calc_md5(password)\n",
    "    else:\n",
    "        print \"没有包含key\"\n",
    "        return False"
   ]
  },
  {
   "cell_type": "code",
   "execution_count": 13,
   "metadata": {
    "collapsed": false
   },
   "outputs": [
    {
     "name": "stdout",
     "output_type": "stream",
     "text": [
      "包含了key\n"
     ]
    },
    {
     "data": {
      "text/plain": [
       "False"
      ]
     },
     "execution_count": 13,
     "metadata": {},
     "output_type": "execute_result"
    }
   ],
   "source": [
    "login('michael','sdsdsd')"
   ]
  },
  {
   "cell_type": "code",
   "execution_count": 14,
   "metadata": {
    "collapsed": false
   },
   "outputs": [
    {
     "name": "stdout",
     "output_type": "stream",
     "text": [
      "没有包含key\n"
     ]
    },
    {
     "data": {
      "text/plain": [
       "False"
      ]
     },
     "execution_count": 14,
     "metadata": {},
     "output_type": "execute_result"
    }
   ],
   "source": [
    "login('csd','dsdsd')"
   ]
  },
  {
   "cell_type": "markdown",
   "metadata": {},
   "source": [
    "摘要算法在很多地方都有广泛的应用。要注意摘要算法不是加密算法，不能用于加密（因为无法通过摘要反推明文），只能用于防篡改，但是它的单向计算特性决定了可以在不存储明文口令的情况下验证用户口令。"
   ]
  },
  {
   "cell_type": "markdown",
   "metadata": {},
   "source": [
    "# itertools \n",
    "<a id='4'></a>\n",
    "\n",
    "Python的内建模块itertools提供了非常有用的用于操作迭代对象的函数。"
   ]
  },
  {
   "cell_type": "raw",
   "metadata": {},
   "source": [
    "import itertools\n",
    "natuals = itertools.count(1)\n",
    "for n in natuals:\n",
    "    print n\n",
    "    \n",
    "因为count会创建一个无限迭代器，所以上面的代码会打印出自然数序列，不会停下来\n",
    "\n",
    "cs = itertools.cycle('ABC') # 注意字符串也是序列的一种\n",
    "    for c in cs:\n",
    "    print c\n",
    "    \n",
    "cycle()会把传入的一个序列无限重复下去"
   ]
  },
  {
   "cell_type": "code",
   "execution_count": 15,
   "metadata": {
    "collapsed": false
   },
   "outputs": [
    {
     "name": "stdout",
     "output_type": "stream",
     "text": [
      "a\n",
      "a\n",
      "a\n",
      "a\n",
      "a\n",
      "a\n",
      "a\n",
      "a\n",
      "a\n",
      "a\n"
     ]
    }
   ],
   "source": [
    "#repeat负责把一个元素无限重复下去，如果提供第二个参数就可以限定重复次数\n",
    "import itertools\n",
    "ns = itertools.repeat('a',10)\n",
    "for n in ns:\n",
    "    print n"
   ]
  },
  {
   "cell_type": "markdown",
   "metadata": {},
   "source": [
    "无限序列只有在for迭代时才会无限地迭代下去，如果只是创建了一个迭代对象，它不会事先把无限个元素生成出来，事实上也不可能在内存中创建无限多个元素。\n",
    "\n",
    "无限序列虽然可以无限迭代下去，但是通常我们会通过takewhile()等函数根据条件判断来截取出一个有限的序列"
   ]
  },
  {
   "cell_type": "code",
   "execution_count": 16,
   "metadata": {
    "collapsed": false
   },
   "outputs": [
    {
     "name": "stdout",
     "output_type": "stream",
     "text": [
      "1\n",
      "2\n",
      "3\n",
      "4\n",
      "5\n",
      "6\n",
      "7\n",
      "8\n",
      "9\n",
      "10\n"
     ]
    }
   ],
   "source": [
    "natuals = itertools.count(1)\n",
    "ns = itertools.takewhile(lambda x : x<= 10, natuals)\n",
    "for n in ns:\n",
    "    print n"
   ]
  },
  {
   "cell_type": "markdown",
   "metadata": {},
   "source": [
    "### groupby() \n",
    "groupby()把迭代器中响铃的重复元素挑出来放在一起"
   ]
  },
  {
   "cell_type": "code",
   "execution_count": 17,
   "metadata": {
    "collapsed": false
   },
   "outputs": [
    {
     "name": "stdout",
     "output_type": "stream",
     "text": [
      "A ['A', 'A', 'A', 'A', 'A']\n",
      "B ['B', 'B', 'B', 'B']\n",
      "C ['C', 'C', 'C', 'C']\n",
      "A ['A', 'A', 'A']\n",
      "D ['D', 'D']\n"
     ]
    }
   ],
   "source": [
    "for key,group in itertools.groupby('AAAAABBBBCCCCAAADD'):\n",
    "    print key,list(group)"
   ]
  },
  {
   "cell_type": "markdown",
   "metadata": {},
   "source": [
    "实际上挑选规则是通过函数完成的，只要作用于函数的两个元素返回的值相等，这两个元素就被认为是在一组的，而函数返回值作为组的key。如果我们要忽略大小写分组，就可以让元素'A'和'a'都返回相同的key："
   ]
  },
  {
   "cell_type": "code",
   "execution_count": 18,
   "metadata": {
    "collapsed": false
   },
   "outputs": [
    {
     "name": "stdout",
     "output_type": "stream",
     "text": [
      "A ['A', 'a', 'a']\n",
      "B ['B', 'B', 'b']\n",
      "C ['c', 'C']\n"
     ]
    }
   ],
   "source": [
    "for key,group in itertools.groupby('AaaBBbcC',lambda c:c.upper()):\n",
    "    print key,list(group)"
   ]
  },
  {
   "cell_type": "markdown",
   "metadata": {},
   "source": [
    "### imap()\n",
    "imap和map的区别时imap可以作用于无穷序列，并且，如果两个序列长度的禅古的不一致，以短的那个为准"
   ]
  },
  {
   "cell_type": "code",
   "execution_count": 20,
   "metadata": {
    "collapsed": false
   },
   "outputs": [
    {
     "name": "stdout",
     "output_type": "stream",
     "text": [
      "10\n",
      "40\n",
      "90\n"
     ]
    }
   ],
   "source": [
    "for x in itertools.imap(lambda x,y : x*y,[10,20,30],itertools.count(1)):\n",
    "    print x"
   ]
  },
  {
   "cell_type": "markdown",
   "metadata": {},
   "source": [
    "# XML\n",
    "<a id='5'></a>\n",
    "\n",
    "操作XML有两种方法，DOM和SAX，DOM会把整个XML读入内存，解析为树，因此占用内存大，解析慢，有点事可以任意遍历树的节点。SAX是流模式，边读边解析，占用内存小，解析快，缺点是我们需要自己处理时间。\n",
    "\n",
    "正常情况下，优先考虑SAX，因为DOM实在是太占内存。\n",
    "\n",
    "在Python中使用SAX解析XML非常简介，通常我们关心的事件是start_element,end_element,char_data。准备好这三个函数就可以解析XML了\n"
   ]
  },
  {
   "cell_type": "raw",
   "metadata": {},
   "source": [
    "举个例子，当SAX解析器读到一个节点时:\n",
    "    <a herf=\"/\">python</a>\n",
    "会产生3个事件：\n",
    "1、start_element事件，在读取<a herf=\"/\">时\n",
    "2、char_data事件，在读取python时\n",
    "3、end_element事件，在读取</a>时"
   ]
  },
  {
   "cell_type": "code",
   "execution_count": 22,
   "metadata": {
    "collapsed": false
   },
   "outputs": [],
   "source": [
    "from xml.parsers.expat import ParserCreate\n",
    "\n",
    "class DefaultSaxHandler(object):\n",
    "    def start_element(self,name,attrs):\n",
    "        print ('sax: start_element: %s, attrs: %s' %(name,str(attrs)))\n",
    "        \n",
    "    def end_element(self,name):\n",
    "        print ('sax: end_element: %s' %name)\n",
    "        \n",
    "    def char_data(self,text):\n",
    "        print ('sax: char_data: %s' %text)\n",
    "        \n",
    "xml = r'''<?xml version=\"1.0\"?>\n",
    "<ol>\n",
    "    <li><a href=\"/python\">Python</a></li>\n",
    "    <li><a href=\"/ruby\">Ruby</a></li>\n",
    "</ol>\n",
    "'''"
   ]
  },
  {
   "cell_type": "code",
   "execution_count": 26,
   "metadata": {
    "collapsed": false
   },
   "outputs": [
    {
     "name": "stdout",
     "output_type": "stream",
     "text": [
      "sax: start_element: ol, attrs: {}\n",
      "sax: char_data: \n",
      "\n",
      "sax: char_data:     \n",
      "sax: start_element: li, attrs: {}\n",
      "sax: start_element: a, attrs: {u'href': u'/python'}\n",
      "sax: char_data: Python\n",
      "sax: end_element: a\n",
      "sax: end_element: li\n",
      "sax: char_data: \n",
      "\n",
      "sax: char_data:     \n",
      "sax: start_element: li, attrs: {}\n",
      "sax: start_element: a, attrs: {u'href': u'/ruby'}\n",
      "sax: char_data: Ruby\n",
      "sax: end_element: a\n",
      "sax: end_element: li\n",
      "sax: char_data: \n",
      "\n",
      "sax: end_element: ol\n"
     ]
    },
    {
     "data": {
      "text/plain": [
       "1"
      ]
     },
     "execution_count": 26,
     "metadata": {},
     "output_type": "execute_result"
    }
   ],
   "source": [
    "handler = DefaultSaxHandler()\n",
    "parser = ParserCreate()\n",
    "parser.returns_unicode = True\n",
    "parser.StartElementHandler = handler.start_element\n",
    "parser.EndElementHandler = handler.end_element\n",
    "parser.CharacterDataHandler = handler.char_data\n",
    "parser.Parse(xml)"
   ]
  },
  {
   "cell_type": "markdown",
   "metadata": {},
   "source": [
    "# HTMLParser\n",
    "<a id='6'></a>\n",
    "\n",
    "如果我们要编写一个搜索引擎，第一步是用爬虫把目标网站的页面抓取下来，第二部时解析该HTML页面，看看里面的内容到底是新闻、图片还是视频。\n",
    "\n",
    "假如第一步已经完成，第二步就该解析HTML了，HTML本质上时XML的子集，但是HTML的语法没有XML那么严格，所以不能用标准的DOM或者SAX来解析HTML\n",
    "\n",
    "Python提供了HTMLParser来方便的解析HTML，只需要简单几行代码："
   ]
  },
  {
   "cell_type": "code",
   "execution_count": 30,
   "metadata": {
    "collapsed": true
   },
   "outputs": [],
   "source": [
    "from HTMLParser import HTMLParser\n",
    "from htmlentitydefs import name2codepoint\n",
    "\n",
    "class MyHTMLParser(HTMLParser):\n",
    "    def handle_starttag(self,tag,attrs):\n",
    "        print('</%s>' %tag)\n",
    "        \n",
    "    def handle_endtag(self,tag):\n",
    "        print('<%s/>' %tag)\n",
    "        \n",
    "    def handle_startendtag(self,tag,attrs):\n",
    "        print('<%s/>' %tag)\n",
    "        \n",
    "    def handle_data(self,data):\n",
    "        print('data: %s' %data)\n",
    "        \n",
    "    def handle_comment(self,data):\n",
    "        print('<!-- -->')\n",
    "        \n",
    "    def handle_entityref(self,name):\n",
    "        print('&%s;' %name)\n",
    "        \n",
    "    def handle_charref(self,name):\n",
    "        print('&#%s;' %name)\n",
    "        "
   ]
  },
  {
   "cell_type": "code",
   "execution_count": 31,
   "metadata": {
    "collapsed": false
   },
   "outputs": [
    {
     "name": "stdout",
     "output_type": "stream",
     "text": [
      "</html>\n",
      "</head>\n",
      "<head/>\n",
      "</body>\n",
      "</p>\n",
      "data: Some \n",
      "</a>\n",
      "data: html\n",
      "<a/>\n",
      "data:  tutorial...\n",
      "</br>\n",
      "data: END\n",
      "<p/>\n",
      "<body/>\n",
      "<html/>\n"
     ]
    }
   ],
   "source": [
    "parser = MyHTMLParser()\n",
    "parser.feed('<html><head></head><body><p>Some <a href=\\\"#\\\">html</a> tutorial...<br>END</p></body></html>')"
   ]
  },
  {
   "cell_type": "raw",
   "metadata": {},
   "source": [
    "feed()方法可以多次调用，也就是不一定一次把整个HTML字符串都塞进去，可以一部分一部分塞进去。\n",
    "\n",
    "特殊字符有两种，一种是英文表示的&nbsp;，一种是数字表示的&#1234;，这两种字符都可以通过Parser解析出来"
   ]
  },
  {
   "cell_type": "code",
   "execution_count": 33,
   "metadata": {
    "collapsed": false
   },
   "outputs": [
    {
     "name": "stdout",
     "output_type": "stream",
     "text": [
      "近期关于Python的会议有： 8 个，具体如下：\n",
      "PyDays Vienna 2017 \t05 May  \tFH Technikum Wien, Höchstädtplatz 6, 1200 Vienna, Austria\n",
      "PyData London 2017 \t05 May  \t Bloomberg No 39/45 Finsbury Square City Gate House, EC2A 1 PQ London, United Kingdom\n",
      "GeoPython 2017 \t08 May  \tBasel, Switzerland\n",
      "PyCon US 2017 \t17 May  \tPortland, Oregon, USA\n",
      "PyDataBCN 2017 \t19 May  \tBarcelona, Spain\n",
      "PyConWEB 2017 \t27 May  \tMunich, Germany\n",
      "DjangoCon Europe 2017 \t03 April  \tFlorence, Italy\n",
      "Rencontres Django 2017 \t01 April  \tToulon, France\n"
     ]
    }
   ],
   "source": [
    "from HTMLParser import HTMLParser\n",
    "import urllib\n",
    "\n",
    "class PyEventParser(HTMLParser):\n",
    "\n",
    "    def __init__(self):\n",
    "        HTMLParser.__init__(self)\n",
    "        self._count = 0\n",
    "        self._events = dict()\n",
    "        self._flag = None\n",
    "\n",
    "    def handle_starttag(self, tag, attrs):\n",
    "        if tag == 'h3' and attrs.__contains__(('class', 'event-title')):\n",
    "            self._count += 1\n",
    "            self._events[self._count] = dict()\n",
    "            self._flag = 'event-title'\n",
    "        if tag == 'time':\n",
    "            self._flag = 'time'\n",
    "        if tag == 'span' and attrs.__contains__(('class', 'event-location')):\n",
    "            self._flag = 'event-location'\n",
    "\n",
    "    def handle_data(self, data):\n",
    "        if self._flag == 'event-title':\n",
    "            self._events[self._count][self._flag] = data\n",
    "        if self._flag == 'time':\n",
    "            self._events[self._count][self._flag] = data\n",
    "        if self._flag == 'event-location':\n",
    "            self._events[self._count][self._flag] = data\n",
    "        self._flag = None\n",
    "\n",
    "    def event_list(self):\n",
    "        print '近期关于Python的会议有：', self._count, '个，具体如下：'\n",
    "        for event in self._events.values():\n",
    "            print event['event-title'], '\\t', event['time'], '\\t', event['event-location']\n",
    "\n",
    "\n",
    "try:\n",
    "    parser = PyEventParser()\n",
    "    pypage = urllib.urlopen('https://www.python.org/events/python-events/')\n",
    "    pyhtml = pypage.read()\n",
    "except IOError,e:\n",
    "    print 'IOError:', e\n",
    "else:\n",
    "    parser.feed(pyhtml)\n",
    "    parser.event_list()\n",
    "finally:\n",
    "    pypage.close()"
   ]
  },
  {
   "cell_type": "markdown",
   "metadata": {
    "collapsed": true
   },
   "source": [
    "# 图形编程 \n",
    "<a id='7'></a>"
   ]
  },
  {
   "cell_type": "markdown",
   "metadata": {},
   "source": [
    "### PIL模块 \n",
    "\n",
    "要详细了解PIL的强大功能，请请参考PIL官方文档：\n",
    "http://effbot.org/imagingbook/"
   ]
  },
  {
   "cell_type": "code",
   "execution_count": 2,
   "metadata": {
    "collapsed": true
   },
   "outputs": [],
   "source": [
    "import Image, ImageFilter\n",
    "import os"
   ]
  },
  {
   "cell_type": "code",
   "execution_count": 7,
   "metadata": {
    "collapsed": false
   },
   "outputs": [
    {
     "name": "stdout",
     "output_type": "stream",
     "text": [
      "<module 'ntpath' from 'C:\\Users\\haier-003\\Anaconda2\\lib\\ntpath.pyc'>\n"
     ]
    }
   ],
   "source": [
    "print os.path"
   ]
  },
  {
   "cell_type": "code",
   "execution_count": 8,
   "metadata": {
    "collapsed": false
   },
   "outputs": [
    {
     "data": {
      "text/plain": [
       "'\\nhello,world!'"
      ]
     },
     "execution_count": 8,
     "metadata": {},
     "output_type": "execute_result"
    }
   ],
   "source": [
    "f = open('data.txt','r')\n",
    "f.read()"
   ]
  },
  {
   "cell_type": "code",
   "execution_count": 9,
   "metadata": {
    "collapsed": true
   },
   "outputs": [],
   "source": [
    "f.close()"
   ]
  },
  {
   "cell_type": "code",
   "execution_count": 12,
   "metadata": {
    "collapsed": false
   },
   "outputs": [],
   "source": [
    "im = Image.open('test.jpg')\n",
    "w, h = im.size\n",
    "#缩放到百分之五十\n",
    "im.thumbnail((w//2, h//2))\n",
    "im.save('thumbnail.jpg','jpeg')"
   ]
  },
  {
   "cell_type": "markdown",
   "metadata": {},
   "source": [
    "### 生成验证码图片"
   ]
  },
  {
   "cell_type": "code",
   "execution_count": 19,
   "metadata": {
    "collapsed": false
   },
   "outputs": [],
   "source": [
    "import Image, ImageDraw, ImageFont, ImageFilter\n",
    "import random\n",
    "\n",
    "#随机字母：\n",
    "def rndChar():\n",
    "    return chr(random.randint(65,90))\n",
    "\n",
    "#随机颜色1：\n",
    "def rndColor1():\n",
    "    return(random.randint(64, 255),random.randint(64, 255),random.randint(64, 255))\n",
    "\n",
    "def rndColor2():\n",
    "    return(random.randint(23, 127),random.randint(23, 127),random.randint(23, 127))\n",
    "\n",
    "#240 x 60\n",
    "width = 60*4\n",
    "height = 60\n",
    "image = Image.new('RGB',(width,height),(255,255,255))\n",
    "\n",
    "#创建Font对象：\n",
    "font = ImageFont.truetype('Arial.ttf',36)\n",
    "#创建Draw对象：\n",
    "draw = ImageDraw.Draw(image)\n",
    "#填充每个像素：\n",
    "for x in range(width):\n",
    "    for y in range(height):\n",
    "        draw.point((x,y), fill=rndColor1())\n",
    "#输出文字：\n",
    "for t in range(4):\n",
    "    draw.text((60 * t+10, 10),rndChar(), font=font,fill=rndColor2())\n",
    "    \n",
    "#模糊：\n",
    "image = image.filter(ImageFilter.BLUR)\n",
    "image.save('code.jpg', 'jpeg')\n"
   ]
  },
  {
   "cell_type": "markdown",
   "metadata": {},
   "source": [
    "### 图形界面\n",
    "\n",
    "Python支持多种图形界面的第三方库，包括：\n",
    "- TK\n",
    "- wxWidgets\n",
    "- Qt\n",
    "- GTK\n",
    "但是Python自带的库是支持Tkinter，使用Tkinter无需安装任何包，就可以直接使用"
   ]
  },
  {
   "cell_type": "markdown",
   "metadata": {},
   "source": [
    "### 第一个GUI程序 "
   ]
  },
  {
   "cell_type": "code",
   "execution_count": 1,
   "metadata": {
    "collapsed": true
   },
   "outputs": [],
   "source": [
    "from Tkinter import *"
   ]
  },
  {
   "cell_type": "code",
   "execution_count": 5,
   "metadata": {
    "collapsed": false
   },
   "outputs": [],
   "source": [
    "#从Frame派生一个Application类，这是所有Widget的父容器\n",
    "class Application(Frame):\n",
    "    def __init__(self, master=None):\n",
    "        Frame.__init__(self,master)\n",
    "        self.pack()\n",
    "        self.createWidgets()\n",
    "        \n",
    "    def createWidgets(self):\n",
    "        self.helloLabel = Label(self, text='Hello,world!')\n",
    "        self.helloLabel.pack()\n",
    "        self.quitButton = Button(self,text='Quit', command=self.quit)\n",
    "        self.quitButton.pack()"
   ]
  },
  {
   "cell_type": "markdown",
   "metadata": {},
   "source": [
    "在GUI中，每个Button、Label、输入框等，都是一个Widget。Frame则是可以容他其他Widget的Widget，所有的Widget组合起来就是一颗树\n",
    "\n",
    "pack()方法把Widget加入到父容器中，并实现布局。pack()是最简单的布局，grid()可以实现更复杂的布局。\n",
    "\n",
    "在createWidgets()方法中，我们创建一个Label和一个Button，当Button被点击时，出发self.quit()使程序退出\n",
    "\n",
    "第三步，实例化Application，并启动消息循环:"
   ]
  },
  {
   "cell_type": "code",
   "execution_count": 3,
   "metadata": {
    "collapsed": false
   },
   "outputs": [],
   "source": [
    "app = Application()\n",
    "#设置窗口标题：\n",
    "app.master.title('Hello World')\n",
    "#主消息循环：\n",
    "app.mainloop()"
   ]
  },
  {
   "cell_type": "code",
   "execution_count": 6,
   "metadata": {
    "collapsed": false
   },
   "outputs": [],
   "source": [
    "#加入文本框\n",
    "from Tkinter import *\n",
    "import tkMessageBox\n",
    "\n",
    "class Application(Frame):\n",
    "    def __init__(self,master=None):\n",
    "        Frame.__init__(self, master)\n",
    "        self.pack()\n",
    "        self.createWidgets()\n",
    "\n",
    "    def createWidgets(self):\n",
    "        self.nameInput = Entry(self)\n",
    "        self.nameInput.pack()\n",
    "        self.alertButton = Button(self, text='Hello', command=self.hello)\n",
    "        self.alertButton.pack()\n",
    "\n",
    "    def hello(self):\n",
    "        name = self.nameInput.get() or 'world'\n",
    "        tkMessageBox.showinfo('Message', 'Hello, %s' %name)"
   ]
  },
  {
   "cell_type": "code",
   "execution_count": 8,
   "metadata": {
    "collapsed": false
   },
   "outputs": [],
   "source": [
    "app = Application()\n",
    "#设置窗口标题：\n",
    "app.master.title('Hello World')\n",
    "#主消息循环：\n",
    "app.mainloop()"
   ]
  },
  {
   "cell_type": "code",
   "execution_count": null,
   "metadata": {
    "collapsed": true
   },
   "outputs": [],
   "source": []
  }
 ],
 "metadata": {
  "kernelspec": {
   "display_name": "Python 2",
   "language": "python",
   "name": "python2"
  },
  "language_info": {
   "codemirror_mode": {
    "name": "ipython",
    "version": 2
   },
   "file_extension": ".py",
   "mimetype": "text/x-python",
   "name": "python",
   "nbconvert_exporter": "python",
   "pygments_lexer": "ipython2",
   "version": "2.7.13"
  }
 },
 "nbformat": 4,
 "nbformat_minor": 2
}
