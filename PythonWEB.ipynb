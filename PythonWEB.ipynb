{
 "cells": [
  {
   "cell_type": "markdown",
   "metadata": {},
   "source": [
    "#  文章目录\n",
    "\n",
    "[WSGI接口](#1)\n",
    "\n",
    "[使用Web框架](#2)\n",
    "\n",
    "[使用模板](#3)\n",
    "\n",
    "[协程](#4)"
   ]
  },
  {
   "cell_type": "markdown",
   "metadata": {},
   "source": [
    "# WSGI接口\n",
    "其实Web应用的本质就是：\n",
    "- 浏览器发送一个HTTP请求\n",
    "- 服务器收到请求，生成一个HTML文档\n",
    "- 服务器把HTML文档作为HTTP响应的Body发送给浏览器\n",
    "- 浏览器收到HTTP响应，从HTTP Body取出HTML文档并显示\n",
    "\n",
    "最简单的Web应用就是先把HTML用文件保存好，用一个现成的HTTP服务器软件，接收用户请求，从文件中读取HTML，返回。Apache、Nginx、Lighttpd等这些常见的静态服务器就是干这事的\n",
    "\n",
    "如果要动态生成HTML，就需要把上述步骤来自己实现。正确的做法事底层代码由专门的服务器软件实现，我们用Python专注于生成HTML文档。因为我们不希望接触到TCP连接、HTTP原始请求和响应格式，所以需要一个同意的接口，让我们专心用Python编写Web业务。\n",
    "\n",
    "这个接口就是WSGI： Web Server Gateway Interface\n",
    "\n",
    "WSGI接口定义非常简单，它只要求Web开发者实现一个函数，就可以响应HTTP请求。"
   ]
  },
  {
   "cell_type": "code",
   "execution_count": 1,
   "metadata": {
    "collapsed": true
   },
   "outputs": [],
   "source": [
    "#web版本的Hello world\n",
    "def application(environ, start_response):\n",
    "    start_response('200 OK',[('Content-Type', 'text/html')])\n",
    "    return [b'<h1>Hello World!</h1>']"
   ]
  },
  {
   "cell_type": "markdown",
   "metadata": {},
   "source": [
    "上面的application函数就是符合WSGI标准的一个HTTP处理函数，它接收两个参数：\n",
    "- envison：一个包含所有HTTP请求信息的dict对象\n",
    "- start_response: 一个发送HTTP响应的函数\n",
    "在application函数中，调用：\n",
    "\n",
    "start_response('200 OK', [('Content-Type', 'text/html')])\n",
    "\n",
    "就发送了HTTP响应的Header，注意Header只能发送一次，也就是只能调用一次start_response()函数。start_response()函数接收两个参数，一个事HTTP响应码，一个事一组list表示HTTP Header，每个Header用一个包含两个str的tuple表示\n",
    "\n",
    "通常情况下，都应该把Content-Type头发送给浏览器，其他很多常用的HTTP Header也应该发送\n",
    "\n"
   ]
  },
  {
   "cell_type": "raw",
   "metadata": {},
   "source": [
    "然后，函数的返回值b'<h1>Hello, web!</h1>'将作为HTTP响应的Body发送给浏览器。"
   ]
  },
  {
   "cell_type": "markdown",
   "metadata": {},
   "source": [
    "有了WSGI，我们关心的就是如何从environ这个dict对象拿到HTTP请求信息，然后构造HTML，童工start_response()发送Header，最后返回Body\n",
    "\n",
    "整个application()函数本身没有设计到任何解析HTTP的部分，也就是说底层代码不需要我们自己编写，我们只负责在更高层次上考虑如何响应请求就行l\n",
    "\n",
    "application()函数必须由WSGI服务器来调用。由很多符合WSGI规范的服务器，我们可以挑选一个来用。但是现在，我们只想尽快测试一下我们编写的application()函数真的可以把HTML输出到浏览器，所以要赶紧找一个最近的WSGI服务器，把我们的Web应用程序跑起来。\n",
    "\n",
    "好消息事Python内置了一个WSGI服务器，这个模块叫wsgiref，它是用纯Python编写的WSGI服务器的参考实现。所谓参考实现是指实现完全符合WSGI标准，但是不考虑任何运行效率，仅供开发和测试使用。"
   ]
  },
  {
   "cell_type": "markdown",
   "metadata": {},
   "source": [
    "# 使用Web框架\n",
    "<a id='2'></a>\n",
    "\n",
    "了解了WSGI框架，我们发现就是一个Web App，就是写一个WSGI的处理函数，针对每个HTTP请求进行响应。\n",
    "\n",
    "但是如何处理HTTP请求不是问题，问题是如何处理100哥不同的URL。\n",
    "\n",
    "每个URL可以对应GET和POST请求，当然还有PUT、DELETE等请求，但是我们通常只考虑最常见的GET和POST请求。\n",
    "\n",
    "一个最简单的想法是从environ变量中取出HTTP请求的星系，然后逐个判断\n",
    "\n",
    "但是这么写下去代码肯定没办法维护了，因为WSGI提供的接口虽然比HTTP接口高级不少，但是和Web App处理逻辑相比，还是比较低级，我们需要在WSGI接口上能进一步抽象，让我们专注于用一个函数处理一个URL,至于URL到函数的映射，就交给Web框架来做。\n",
    "\n",
    "由于用Python开发一个Web框架十分容易，所以Python有上百个开源的Web框架。这里选择一个比较流行的Flask来使用。\n",
    "\n",
    "写一个app.py处理3个URL，分别是\n",
    "- GET /：首页，返回Home；\n",
    "- GET/ signin:登录页，显示登录表单；\n",
    "- POST/signin：处理登录表单，显示登录结果\n",
    "\n",
    "注意：同一个URL/signin分别有GET和POST两种请求，映射到两个处理函数中。\n",
    "\n"
   ]
  },
  {
   "cell_type": "raw",
   "metadata": {},
   "source": [
    "from flask import Flask\n",
    "from flask import request\n",
    "\n",
    "app = Flask(__name__)\n",
    "\n",
    "@app.route('/', methods=['GET', 'POST'])\n",
    "def home():\n",
    "    return '<h1>Home</h1>'\n",
    "\n",
    "@app.route('/signin', methods=['GET'])\n",
    "def signin_form():\n",
    "    return '''<form action=\"/signin\" method=\"post\">\n",
    "              <p><input name=\"username\"></p>\n",
    "              <p><input name=\"password\" type=\"password\"></p>\n",
    "              <p><button type=\"submit\">Sign In</button></p>\n",
    "              </form>'''\n",
    "\n",
    "@app.route('/signin', methods=['POST'])\n",
    "def signin():\n",
    "    # 需要从request对象读取表单内容：\n",
    "    if request.form['username']=='admin' and request.form['password']=='password':\n",
    "        return '<h3>Hello, admin!</h3>'\n",
    "    return '<h3>Bad username or password.</h3>'\n",
    "\n",
    "if __name__ == '__main__':\n",
    "    app.run()"
   ]
  },
  {
   "cell_type": "markdown",
   "metadata": {},
   "source": [
    "#  使用模板\n",
    "<a id='3'></a>\n",
    "\n",
    "把上次直接输出字符串作为HTML的例子用MVC改写一下"
   ]
  },
  {
   "cell_type": "raw",
   "metadata": {},
   "source": [
    "from flask import Flask,request,render_template\n",
    "\n",
    "app = Flask(__name__)\n",
    "\n",
    "@app.route('/',methods=['GET','POST'])\n",
    "def home():\n",
    "    return render_template('home.html')\n",
    "\n",
    "@app.route('/signin', methods=['GET'])\n",
    "def signin_form():\n",
    "    return render_template('form.html')\n",
    "\n",
    "@app.route('/signin',methods=['POST'])\n",
    "def signin():\n",
    "    username = request.form['username']\n",
    "    password = request.form['password']\n",
    "    if username=='admin'  and  password=='password':\n",
    "        return render_template('signin-ok.html',username=username)\n",
    "    return render_template('form.html', message='Bad username or password', username=username)\n",
    "\n",
    "if __name__ == '__main__':\n",
    "    app.run()"
   ]
  },
  {
   "cell_type": "markdown",
   "metadata": {
    "collapsed": true
   },
   "source": [
    "# 协程\n",
    "<a id='4'></a>\n",
    "\n",
    "协程，又称微线程，英文名Coroutine\n",
    "\n",
    "子程序，或者叫函数，在所有语言中都是层级调用，比如A调用B，B在执行过程中又调用了C，C执行完毕返回，B执行完毕返回，最后是A执行完毕\n",
    "\n",
    "所以子程序调用是童工栈实现的，一个线程就是执行一个子程序。\n",
    "\n",
    "子程序调用总是一个入口，一次返回，调用顺序是明确的。而协程的调用和子程序不同\n",
    "\n",
    "协程看上去也是子程序，但执行过程中在子程序内部可终端，然后转而执行别的子程序，在适当的时候再返回来接着执行。\n",
    "\n",
    "看起来有点像多线程，相比多线程，最大的优势就是协程极高的执行效率。因为子程序切换不是线程切换，而是程序自身控制，因此没有线程切换的开销，和多线程比，线程数量越多，协程的性能优势就越明显。\n",
    "\n",
    "第二大优势就是不需要多线程的锁机制，因为只有一个线程，也不存在同事写变量冲突，在协程中控制共享资源不加锁，只需要判断状态就好了，所以执行效率比多线程高很多\n",
    "\n",
    "因为协程是一个线程执行，怎么去利用多核CPU？\n",
    "最简单的办法是多进程+协程，既充分利用多核，又充分发挥协程的高效率，可获得极高的性能。\n",
    "\n",
    "Python对协程的支持还非常有限，用在generator中的yield可以一定程度伤实现协程。虽然支持不完全，但是已经可以发挥相当大的为力了。\n",
    "\n",
    "用协程来做生产者消费者模型："
   ]
  },
  {
   "cell_type": "code",
   "execution_count": 1,
   "metadata": {
    "collapsed": true
   },
   "outputs": [],
   "source": [
    "import time"
   ]
  },
  {
   "cell_type": "code",
   "execution_count": 2,
   "metadata": {
    "collapsed": false
   },
   "outputs": [
    {
     "name": "stdout",
     "output_type": "stream",
     "text": [
      "[PRODUCER] Producing 1...\n",
      "[CONSUMER] Consuming 1...\n",
      "[PRODUCER] Cousumer return: 200 OK...\n",
      "[PRODUCER] Producing 2...\n",
      "[CONSUMER] Consuming 2...\n",
      "[PRODUCER] Cousumer return: 200 OK...\n",
      "[PRODUCER] Producing 3...\n",
      "[CONSUMER] Consuming 3...\n",
      "[PRODUCER] Cousumer return: 200 OK...\n",
      "[PRODUCER] Producing 4...\n",
      "[CONSUMER] Consuming 4...\n",
      "[PRODUCER] Cousumer return: 200 OK...\n",
      "[PRODUCER] Producing 5...\n",
      "[CONSUMER] Consuming 5...\n",
      "[PRODUCER] Cousumer return: 200 OK...\n"
     ]
    }
   ],
   "source": [
    "def consumer():\n",
    "    r = ''\n",
    "    while True:\n",
    "        n = yield r\n",
    "        if not n:\n",
    "            return\n",
    "        print('[CONSUMER] Consuming %s...' %n)\n",
    "        time.sleep(1)\n",
    "        r = '200 OK'\n",
    "        \n",
    "def produce(c):\n",
    "    c.next()\n",
    "    n = 0\n",
    "    while n<5:\n",
    "        n = n+1\n",
    "        print('[PRODUCER] Producing %s...' %n)\n",
    "        r = c.send(n)\n",
    "        print('[PRODUCER] Cousumer return: %s...' %r)\n",
    "    c.close()\n",
    "\n",
    "if __name__ == '__main__':\n",
    "    c = consumer()\n",
    "    produce(c)"
   ]
  },
  {
   "cell_type": "markdown",
   "metadata": {},
   "source": [
    "注意到consumer函数是一个generator，把一个consumer传入produce后：\n",
    "- 首先调用c.next()启动生成器\n",
    "- 然后，一旦生产了东西，通过c.send(n)切换到consumer执行\n",
    "- consumer通过yield拿到消息，处理，又通过yield把结果传回\n",
    "- produce拿到consumer处理的结果，继续生产下一条消息\n",
    "- produce决定不生产了，通过c.close()关闭consumer，整个过程结束"
   ]
  },
  {
   "cell_type": "markdown",
   "metadata": {},
   "source": [
    "### gevent\n",
    "\n",
    "Python通过yield提供了对协程的基本支持，但是不完全，第三方的gevent为Python提供了比较完善的协程支持\n",
    "\n",
    "gevent是第三方库，通过greenlet实现协程，其基本思想：\n",
    "\n",
    "当一个greenlet遇到IO操作时，比如访问网络，就自动切换到其他的greenlet，等到IO操作完成，再在适当的时候切换回来继续执行。由于IO操作非常耗时，经常使程序处于等待状态，有了gevent为我们自动切换协程，就保证总有greenlet在运行，而不是等待IO\n",
    "\n",
    "由于切换IO操作时自动完成，所以gevent需要修改Python自带的一些标准库，这一过程在启动时通过monkey patch完成"
   ]
  },
  {
   "cell_type": "code",
   "execution_count": 3,
   "metadata": {
    "collapsed": true
   },
   "outputs": [],
   "source": [
    "from gevent import monkey;monkey.patch_socket()"
   ]
  },
  {
   "cell_type": "code",
   "execution_count": 4,
   "metadata": {
    "collapsed": true
   },
   "outputs": [],
   "source": [
    "import gevent"
   ]
  },
  {
   "cell_type": "code",
   "execution_count": 5,
   "metadata": {
    "collapsed": false
   },
   "outputs": [
    {
     "name": "stdout",
     "output_type": "stream",
     "text": [
      "<Greenlet at 0x61152a8L: f(5)> 0\n",
      "<Greenlet at 0x61152a8L: f(5)> 1\n",
      "<Greenlet at 0x61152a8L: f(5)> 2\n",
      "<Greenlet at 0x61152a8L: f(5)> 3\n",
      "<Greenlet at 0x61152a8L: f(5)> 4\n",
      "<Greenlet at 0x61153d8L: f(5)> 0\n",
      "<Greenlet at 0x61153d8L: f(5)> 1\n",
      "<Greenlet at 0x61153d8L: f(5)> 2\n",
      "<Greenlet at 0x61153d8L: f(5)> 3\n",
      "<Greenlet at 0x61153d8L: f(5)> 4\n",
      "<Greenlet at 0x6115470L: f(5)> 0\n",
      "<Greenlet at 0x6115470L: f(5)> 1\n",
      "<Greenlet at 0x6115470L: f(5)> 2\n",
      "<Greenlet at 0x6115470L: f(5)> 3\n",
      "<Greenlet at 0x6115470L: f(5)> 4\n"
     ]
    }
   ],
   "source": [
    "def f(n):\n",
    "    for i in range(n):\n",
    "        print gevent.getcurrent(), i\n",
    "        \n",
    "g1 = gevent.spawn(f, 5)\n",
    "g2 = gevent.spawn(f, 5)\n",
    "g3 = gevent.spawn(f, 5)\n",
    "g1.join()\n",
    "g2.join()\n",
    "g3.join()"
   ]
  },
  {
   "cell_type": "markdown",
   "metadata": {},
   "source": [
    "可以看到，3个greenlet是依次运行而不是交替运行。\n",
    "要让greenlet交替运行，可以通过gevent.sleep()交出控制权"
   ]
  },
  {
   "cell_type": "code",
   "execution_count": 6,
   "metadata": {
    "collapsed": true
   },
   "outputs": [],
   "source": [
    "def f(n):\n",
    "    for i in range(n):\n",
    "        print gevent.getcurrent(), i\n",
    "        gevent.sleep(0)"
   ]
  },
  {
   "cell_type": "markdown",
   "metadata": {},
   "source": [
    "实际代码中，一般不会用gevent.sleep去切换协程，而是在执行到IO操作时，gevent自动切换"
   ]
  },
  {
   "cell_type": "code",
   "execution_count": null,
   "metadata": {
    "collapsed": false
   },
   "outputs": [
    {
     "name": "stdout",
     "output_type": "stream",
     "text": [
      "The history saving thread hit an unexpected error (LoopExit('This operation would block forever', <Hub at 0x61155a0 select pending=0 ref=0>)).History will not be written to the database.\n",
      "GET: https://www.python.org/\n",
      "GET: https://www.yahoo.com/\n",
      "GET: https://github.com/\n",
      "47430 bytes received from https://www.python.org/\n",
      "420971 bytes received from https://www.yahoo.com/\n",
      "93365 bytes received from https://github.com/\n"
     ]
    }
   ],
   "source": [
    "from gevent import monkey; monkey.patch_all()\n",
    "import gevent\n",
    "import urllib2\n",
    "\n",
    "def f(url):\n",
    "    print('GET: %s' %url)\n",
    "    resp = urllib2.urlopen(url)\n",
    "    data = resp.read()\n",
    "    print('%d bytes received from %s' %(len(data), url))\n",
    "    \n",
    "gevent.joinall([\n",
    "    gevent.spawn(f, 'https://www.python.org/'),\n",
    "    gevent.spawn(f, 'https://www.yahoo.com/'),\n",
    "    gevent.spawn(f, 'https://github.com/'),\n",
    "])"
   ]
  },
  {
   "cell_type": "code",
   "execution_count": null,
   "metadata": {
    "collapsed": true
   },
   "outputs": [],
   "source": []
  }
 ],
 "metadata": {
  "kernelspec": {
   "display_name": "Python 2",
   "language": "python",
   "name": "python2"
  },
  "language_info": {
   "codemirror_mode": {
    "name": "ipython",
    "version": 2
   },
   "file_extension": ".py",
   "mimetype": "text/x-python",
   "name": "python",
   "nbconvert_exporter": "python",
   "pygments_lexer": "ipython2",
   "version": "2.7.13"
  }
 },
 "nbformat": 4,
 "nbformat_minor": 2
}
